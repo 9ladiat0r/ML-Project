{
 "cells": [
  {
   "cell_type": "markdown",
   "id": "f0d6aece",
   "metadata": {},
   "source": [
    "## Comparative Study of 3 parts"
   ]
  },
  {
   "cell_type": "markdown",
   "id": "68a6cd3d",
   "metadata": {},
   "source": [
    "1. PM1- Accuracy :  87  Precision : 89  Recall : 91\n",
    "2. PM2- Accuracy :  90  Precision : 91  Recall : 93\n",
    "3. PM3- Accuracy :  94  Precision : 94  Recall : 96\n",
    "4. PM4- Accuracy :  89  Precision : 90  Recall : 92\n",
    "5. FLDA1- Accuracy : 94  Precision : 99  Recall : 92\n",
    "6. FLDA2- Accuracy : 95  Precision : 99  Recall : 93\n",
    "7. LR1- Batch - Accuracy : 90  \n",
    "8. LR1- Mini - Batch Accuracy : 90\n",
    "9. LR1 - Stochastic Accuracy : 89\n",
    "10. LR2- Batch Accuracy : 96\n",
    "11. LR2 - Mini-Batch Accuracy : 96\n",
    "12. LR2 - Stochastic Accuracy : 94\n",
    "\n",
    "By comparing all the models we can see that Logistic Regression models perform a little better as compared to the other models."
   ]
  },
  {
   "cell_type": "markdown",
   "id": "f2a73378",
   "metadata": {},
   "source": [
    "## Perceptron \n",
    "Model gives poor results on un-normalized data. It requires a lot of epochs, also we can never know the model is completely linearly separable or not.\n",
    "\n",
    "Observation:\n",
    "\n",
    "1. There is no substantial difference in results after changing the order of tuples in training data as PM1 and PM3 has similar evaluation metrics.\n",
    "2. Results improve substantially in PM3 as compared to PM1, PM2 and PM4 due to normalisation.\n",
    "\n",
    "3. There is almost no difference in results after changing the order of features in training data as PM1 and PM4 has similar evaluation metrics."
   ]
  },
  {
   "cell_type": "markdown",
   "id": "23e32f83",
   "metadata": {},
   "source": [
    "## Fischer's Linear Discriminant Analysis\n",
    "\n",
    "Model gives great results on un-normalized data. It requires lesser time as compared to other algorithms implemented.\n",
    "\n",
    "Observation:\n",
    "There is almost no difference in results after changing the order of features in training data as FLDR1 and FLDR2 has similar evaluation metrics. The only difference is the projection vector on to which the training data is projected.\n"
   ]
  },
  {
   "cell_type": "markdown",
   "id": "2f128312",
   "metadata": {},
   "source": [
    "## Logistic Regression\n",
    "This model not unlike perceptron gives poor results on un-normalized data.\n",
    "\n",
    "Observation:\n",
    "1. When compared on the basis of different types of descent algorithms,i.e(batch gradient descent, stochastic gradient descent and mini-batch gradient descent\n",
    "\n",
    "2. When the learning rate is increased, it leads to a faster descent ,although it may overstep and miss the point of minima.\n",
    "\n",
    "3. When compared on the basis of differenct thresholds"
   ]
  },
  {
   "cell_type": "code",
   "execution_count": null,
   "id": "2f2ad329",
   "metadata": {},
   "outputs": [],
   "source": []
  }
 ],
 "metadata": {
  "kernelspec": {
   "display_name": "Python 3 (ipykernel)",
   "language": "python",
   "name": "python3"
  },
  "language_info": {
   "codemirror_mode": {
    "name": "ipython",
    "version": 3
   },
   "file_extension": ".py",
   "mimetype": "text/x-python",
   "name": "python",
   "nbconvert_exporter": "python",
   "pygments_lexer": "ipython3",
   "version": "3.10.9"
  }
 },
 "nbformat": 4,
 "nbformat_minor": 5
}
